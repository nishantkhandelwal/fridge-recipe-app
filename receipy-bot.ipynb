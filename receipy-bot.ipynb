{
 "cells": [
  {
   "cell_type": "code",
   "execution_count": 19,
   "metadata": {},
   "outputs": [
    {
     "name": "stdout",
     "output_type": "stream",
     "text": [
      "Requirement already satisfied: gspread in /Users/nishantkhandelwal/anaconda3/lib/python3.11/site-packages (6.2.1)\n",
      "Requirement already satisfied: oauth2client in /Users/nishantkhandelwal/anaconda3/lib/python3.11/site-packages (4.1.3)\n",
      "Requirement already satisfied: pandas in /Users/nishantkhandelwal/anaconda3/lib/python3.11/site-packages (1.5.3)\n",
      "Requirement already satisfied: openai in /Users/nishantkhandelwal/anaconda3/lib/python3.11/site-packages (1.91.0)\n",
      "Requirement already satisfied: python-dotenv in /Users/nishantkhandelwal/anaconda3/lib/python3.11/site-packages (0.21.0)\n",
      "Requirement already satisfied: google-auth>=1.12.0 in /Users/nishantkhandelwal/anaconda3/lib/python3.11/site-packages (from gspread) (2.40.3)\n",
      "Requirement already satisfied: google-auth-oauthlib>=0.4.1 in /Users/nishantkhandelwal/anaconda3/lib/python3.11/site-packages (from gspread) (1.0.0)\n",
      "Requirement already satisfied: httplib2>=0.9.1 in /Users/nishantkhandelwal/anaconda3/lib/python3.11/site-packages (from oauth2client) (0.22.0)\n",
      "Requirement already satisfied: pyasn1>=0.1.7 in /Users/nishantkhandelwal/anaconda3/lib/python3.11/site-packages (from oauth2client) (0.4.8)\n",
      "Requirement already satisfied: pyasn1-modules>=0.0.5 in /Users/nishantkhandelwal/anaconda3/lib/python3.11/site-packages (from oauth2client) (0.2.8)\n",
      "Requirement already satisfied: rsa>=3.1.4 in /Users/nishantkhandelwal/anaconda3/lib/python3.11/site-packages (from oauth2client) (4.9.1)\n",
      "Requirement already satisfied: six>=1.6.1 in /Users/nishantkhandelwal/anaconda3/lib/python3.11/site-packages (from oauth2client) (1.16.0)\n",
      "Requirement already satisfied: python-dateutil>=2.8.1 in /Users/nishantkhandelwal/anaconda3/lib/python3.11/site-packages (from pandas) (2.8.2)\n",
      "Requirement already satisfied: pytz>=2020.1 in /Users/nishantkhandelwal/anaconda3/lib/python3.11/site-packages (from pandas) (2023.3.post1)\n",
      "Requirement already satisfied: numpy>=1.21.0 in /Users/nishantkhandelwal/anaconda3/lib/python3.11/site-packages (from pandas) (1.23.5)\n",
      "Requirement already satisfied: anyio<5,>=3.5.0 in /Users/nishantkhandelwal/anaconda3/lib/python3.11/site-packages (from openai) (4.2.0)\n",
      "Requirement already satisfied: distro<2,>=1.7.0 in /Users/nishantkhandelwal/anaconda3/lib/python3.11/site-packages (from openai) (1.8.0)\n",
      "Requirement already satisfied: httpx<1,>=0.23.0 in /Users/nishantkhandelwal/anaconda3/lib/python3.11/site-packages (from openai) (0.28.1)\n",
      "Requirement already satisfied: jiter<1,>=0.4.0 in /Users/nishantkhandelwal/anaconda3/lib/python3.11/site-packages (from openai) (0.10.0)\n",
      "Requirement already satisfied: pydantic<3,>=1.9.0 in /Users/nishantkhandelwal/anaconda3/lib/python3.11/site-packages (from openai) (2.11.4)\n",
      "Requirement already satisfied: sniffio in /Users/nishantkhandelwal/anaconda3/lib/python3.11/site-packages (from openai) (1.3.0)\n",
      "Requirement already satisfied: tqdm>4 in /Users/nishantkhandelwal/anaconda3/lib/python3.11/site-packages (from openai) (4.65.0)\n",
      "Requirement already satisfied: typing-extensions<5,>=4.11 in /Users/nishantkhandelwal/anaconda3/lib/python3.11/site-packages (from openai) (4.13.2)\n",
      "Requirement already satisfied: idna>=2.8 in /Users/nishantkhandelwal/anaconda3/lib/python3.11/site-packages (from anyio<5,>=3.5.0->openai) (3.4)\n",
      "Requirement already satisfied: cachetools<6.0,>=2.0.0 in /Users/nishantkhandelwal/anaconda3/lib/python3.11/site-packages (from google-auth>=1.12.0->gspread) (4.2.2)\n",
      "Requirement already satisfied: requests-oauthlib>=0.7.0 in /Users/nishantkhandelwal/anaconda3/lib/python3.11/site-packages (from google-auth-oauthlib>=0.4.1->gspread) (2.0.0)\n",
      "Requirement already satisfied: pyparsing!=3.0.0,!=3.0.1,!=3.0.2,!=3.0.3,<4,>=2.4.2 in /Users/nishantkhandelwal/anaconda3/lib/python3.11/site-packages (from httplib2>=0.9.1->oauth2client) (3.0.9)\n",
      "Requirement already satisfied: certifi in /Users/nishantkhandelwal/anaconda3/lib/python3.11/site-packages (from httpx<1,>=0.23.0->openai) (2024.2.2)\n",
      "Requirement already satisfied: httpcore==1.* in /Users/nishantkhandelwal/anaconda3/lib/python3.11/site-packages (from httpx<1,>=0.23.0->openai) (1.0.9)\n",
      "Requirement already satisfied: h11>=0.16 in /Users/nishantkhandelwal/anaconda3/lib/python3.11/site-packages (from httpcore==1.*->httpx<1,>=0.23.0->openai) (0.16.0)\n",
      "Requirement already satisfied: annotated-types>=0.6.0 in /Users/nishantkhandelwal/anaconda3/lib/python3.11/site-packages (from pydantic<3,>=1.9.0->openai) (0.7.0)\n",
      "Requirement already satisfied: pydantic-core==2.33.2 in /Users/nishantkhandelwal/anaconda3/lib/python3.11/site-packages (from pydantic<3,>=1.9.0->openai) (2.33.2)\n",
      "Requirement already satisfied: typing-inspection>=0.4.0 in /Users/nishantkhandelwal/anaconda3/lib/python3.11/site-packages (from pydantic<3,>=1.9.0->openai) (0.4.0)\n",
      "Requirement already satisfied: oauthlib>=3.0.0 in /Users/nishantkhandelwal/anaconda3/lib/python3.11/site-packages (from requests-oauthlib>=0.7.0->google-auth-oauthlib>=0.4.1->gspread) (3.2.2)\n",
      "Requirement already satisfied: requests>=2.0.0 in /Users/nishantkhandelwal/anaconda3/lib/python3.11/site-packages (from requests-oauthlib>=0.7.0->google-auth-oauthlib>=0.4.1->gspread) (2.31.0)\n",
      "Requirement already satisfied: charset-normalizer<4,>=2 in /Users/nishantkhandelwal/anaconda3/lib/python3.11/site-packages (from requests>=2.0.0->requests-oauthlib>=0.7.0->google-auth-oauthlib>=0.4.1->gspread) (2.0.4)\n",
      "Requirement already satisfied: urllib3<3,>=1.21.1 in /Users/nishantkhandelwal/anaconda3/lib/python3.11/site-packages (from requests>=2.0.0->requests-oauthlib>=0.7.0->google-auth-oauthlib>=0.4.1->gspread) (2.0.7)\n"
     ]
    }
   ],
   "source": [
    "! pip install gspread oauth2client pandas openai python-dotenv"
   ]
  },
  {
   "cell_type": "code",
   "execution_count": 20,
   "metadata": {},
   "outputs": [
    {
     "data": {
      "text/plain": [
       "True"
      ]
     },
     "execution_count": 20,
     "metadata": {},
     "output_type": "execute_result"
    }
   ],
   "source": [
    "from dotenv import load_dotenv\n",
    "load_dotenv()"
   ]
  },
  {
   "cell_type": "code",
   "execution_count": 40,
   "metadata": {},
   "outputs": [],
   "source": [
    "import gspread\n",
    "from oauth2client.service_account import ServiceAccountCredentials\n",
    "import pandas as pd\n",
    "from datetime import datetime, timedelta\n",
    "import openai\n",
    "import json\n",
    "import os"
   ]
  },
  {
   "cell_type": "code",
   "execution_count": 22,
   "metadata": {},
   "outputs": [],
   "source": [
    "SHEET_NAME = \"Fridge Inventory\" \n",
    "SCOPE = [\n",
    "    \"https://spreadsheets.google.com/feeds\",\n",
    "    \"https://www.googleapis.com/auth/spreadsheets\",\n",
    "    \"https://www.googleapis.com/auth/drive\"\n",
    "]\n",
    "creds = ServiceAccountCredentials.from_json_keyfile_name(\"google_creds.json\", SCOPE)\n",
    "client = gspread.authorize(creds)\n",
    "sheet = client.open(SHEET_NAME).sheet1"
   ]
  },
  {
   "cell_type": "code",
   "execution_count": 23,
   "metadata": {},
   "outputs": [],
   "source": [
    "# Fetch all rows from the sheet and load into pandas dataframe\n",
    "records = sheet.get_all_records()\n",
    "df = pd.DataFrame(records)\n",
    "\n",
    "# Convert 'Expiry Date' and 'Purchase Date' to datetime objects\n",
    "df[\"Expiry Date\"] = pd.to_datetime(df[\"Expiry Date\"], errors='coerce')\n",
    "df[\"Purchase Date\"] = pd.to_datetime(df[\"Purchase Date\"], errors='coerce')"
   ]
  },
  {
   "cell_type": "code",
   "execution_count": 38,
   "metadata": {},
   "outputs": [],
   "source": [
    "# Calculate today's date and threshold for expiry (2 days from now)\n",
    "today = datetime.today()\n",
    "threshold = today + timedelta(days=2)\n",
    "\n",
    "# Keep only rows with quantity info and items expiring soon\n",
    "filtered = df[\n",
    "    (df[\"Expiry Date\"] <= threshold) &\n",
    "    (df[\"Remaining Quantity\"].notna()) &\n",
    "    (df[\"Remaining Quantity\"] != \"\") &\n",
    "    (df[\"Remaining Quantity\"].astype(str).str.strip() != \"0\")\n",
    "]"
   ]
  },
  {
   "cell_type": "code",
   "execution_count": 39,
   "metadata": {},
   "outputs": [
    {
     "name": "stdout",
     "output_type": "stream",
     "text": [
      "          Item Name Expiry Date Remaining Quantity\n",
      "0              Milk  2025-06-28                 1L\n",
      "1          Broccoli  2025-06-27             1 head\n",
      "2           Spinach  2025-06-27            1 bunch\n",
      "3    Chicken Breast  2025-06-26              2 pcs\n",
      "4       Cooked Rice  2025-06-26             1 bowl\n",
      "5       Bell Pepper  2025-06-28                  1\n",
      "6    Cooked Lentils  2025-06-26             1 bowl\n",
      "7       Green Beans  2025-06-28               150g\n",
      "8      Cooked Pasta  2025-06-26             1 bowl\n",
      "9   Fresh Coriander  2025-06-28            1 bunch\n",
      "10         Sausages  2025-06-27              4 pcs\n",
      "11            Bacon  2025-06-27               200g\n",
      "12        Mushrooms  2025-06-28               200g\n",
      "13         Cucumber  2025-06-28                  2\n",
      "14   Cooked Chicken  2025-06-26             1 bowl\n",
      "15     Apple Slices  2025-06-27        1 container\n"
     ]
    }
   ],
   "source": [
    "if filtered.reset_index(drop=True).empty:\n",
    "    print(\"✅ No items are expiring in the next 2 days. You're good!\")\n",
    "else:\n",
    "    print(filtered.reset_index(drop=True)[[\"Item Name\", \"Expiry Date\", \"Remaining Quantity\"]])"
   ]
  },
  {
   "cell_type": "code",
   "execution_count": 42,
   "metadata": {},
   "outputs": [
    {
     "data": {
      "text/plain": [
       "[{'item': 'Milk', 'quantity': '1L'},\n",
       " {'item': 'Broccoli', 'quantity': '1 head'},\n",
       " {'item': 'Spinach', 'quantity': '1 bunch'},\n",
       " {'item': 'Chicken Breast', 'quantity': '2 pcs'},\n",
       " {'item': 'Cooked Rice', 'quantity': '1 bowl'},\n",
       " {'item': 'Bell Pepper', 'quantity': 1},\n",
       " {'item': 'Cooked Lentils', 'quantity': '1 bowl'},\n",
       " {'item': 'Green Beans', 'quantity': '150g'},\n",
       " {'item': 'Cooked Pasta', 'quantity': '1 bowl'},\n",
       " {'item': 'Fresh Coriander', 'quantity': '1 bunch'},\n",
       " {'item': 'Sausages', 'quantity': '4 pcs'},\n",
       " {'item': 'Bacon', 'quantity': '200g'},\n",
       " {'item': 'Mushrooms', 'quantity': '200g'},\n",
       " {'item': 'Cucumber', 'quantity': 2},\n",
       " {'item': 'Cooked Chicken', 'quantity': '1 bowl'},\n",
       " {'item': 'Apple Slices', 'quantity': '1 container'}]"
      ]
     },
     "execution_count": 42,
     "metadata": {},
     "output_type": "execute_result"
    }
   ],
   "source": [
    "# Prepare a list of unique expiring items to include in prompt\n",
    "ingredient_list = [\n",
    "    {\n",
    "        \"item\": row[\"Item Name\"],\n",
    "        \"quantity\": row[\"Remaining Quantity\"]\n",
    "    }\n",
    "    for _, row in filtered.iterrows()\n",
    "]\n",
    "ingredient_list"
   ]
  },
  {
   "cell_type": "code",
   "execution_count": null,
   "metadata": {},
   "outputs": [],
   "source": [
    "if food_preference not in [\"veg\", \"non-veg\"]:\n",
    "    food_preference = \"veg\"  # Default to vegetarian"
   ]
  }
 ],
 "metadata": {
  "kernelspec": {
   "display_name": "base",
   "language": "python",
   "name": "python3"
  },
  "language_info": {
   "codemirror_mode": {
    "name": "ipython",
    "version": 3
   },
   "file_extension": ".py",
   "mimetype": "text/x-python",
   "name": "python",
   "nbconvert_exporter": "python",
   "pygments_lexer": "ipython3",
   "version": "3.11.7"
  }
 },
 "nbformat": 4,
 "nbformat_minor": 2
}
